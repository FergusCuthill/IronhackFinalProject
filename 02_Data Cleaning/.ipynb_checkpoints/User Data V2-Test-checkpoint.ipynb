{
 "cells": [
  {
   "cell_type": "code",
   "execution_count": 98,
   "metadata": {},
   "outputs": [],
   "source": [
    "import pandas as pd\n",
    "import numpy as np\n",
    "import re\n",
    "import os\n",
    "import pymysql\n",
    "from sqlalchemy import create_engine\n",
    "from scipy import sparse\n",
    "import pickle\n",
    "import random\n",
    "\n",
    "# Create SQL engine\n",
    "cred = os.environ.get('SQL')\n",
    "engine = create_engine('mysql+pymysql://'+cred+'@localhost/final_project')\n",
    "# Read files\n",
    "ug = pd.read_sql(\"SELECT steamid, appid FROM final_project.games_2 LIMIT 100000;\", con=engine)\n",
    "sg = pd.read_csv(\"../02_Data Cleaning/Cleaned Data/clean_sg.csv\")\n",
    "# Create column of 1s\n",
    "ug[\"ones\"] = 1\n",
    "# Get list of unique apps that are in both sg list and ug and list of unique users\n",
    "apps = [i for i in ug[\"appid\"].unique() if i in sg[\"appid\"]]\n",
    "users = pd.DataFrame(ug[\"steamid\"].unique()).reset_index().set_index(0)\n",
    "# Change steam IDs to an index number (makes the sparse array easier to deal with) and create random sample of rows for testing and training\n",
    "ug[\"steamid\"] = ug[\"steamid\"].apply(lambda x: users.loc[x])\n",
    "rows = random.sample(range(users.iloc[-1,0]),60)\n",
    "# Create sparse array of data and split into test and train\n",
    "ud = sparse.csr_matrix((ug[\"ones\"], (ug[\"appid\"], ug[\"steamid\"])))[apps]\n",
    "udtr = ud[:,rows[:50]]\n",
    "udte = ud[:,rows[50:]]\n",
    "# Save Outputs to File\n",
    "with open(\"../03_Model Creation/Data/Test/g_list.txt\", 'wb') as fp:\n",
    "    pickle.dump(apps, fp)\n",
    "sparse.save_npz(\"../03_Model Creation/Data/Test/User_Data_tr.npz\", udtr)\n",
    "sparse.save_npz(\"../03_Model Creation/Data/Test/User_Data_te.npz\", udtr)"
   ]
  },
  {
   "cell_type": "code",
   "execution_count": 95,
   "metadata": {},
   "outputs": [],
   "source": []
  }
 ],
 "metadata": {
  "kernelspec": {
   "display_name": "Python 3",
   "language": "python",
   "name": "python3"
  },
  "language_info": {
   "codemirror_mode": {
    "name": "ipython",
    "version": 3
   },
   "file_extension": ".py",
   "mimetype": "text/x-python",
   "name": "python",
   "nbconvert_exporter": "python",
   "pygments_lexer": "ipython3",
   "version": "3.7.6"
  }
 },
 "nbformat": 4,
 "nbformat_minor": 4
}
