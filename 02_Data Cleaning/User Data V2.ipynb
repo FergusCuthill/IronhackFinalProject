{
 "cells": [
  {
   "cell_type": "code",
   "execution_count": 5,
   "metadata": {},
   "outputs": [],
   "source": [
    "import pandas as pd\n",
    "import numpy as np\n",
    "import os\n",
    "import pymysql\n",
    "from sqlalchemy import create_engine\n",
    "from scipy import sparse\n",
    "import pickle\n",
    "import random\n",
    "\n",
    "# Create SQL engine\n",
    "cred = os.environ.get('SQL')\n",
    "engine = create_engine('mysql+pymysql://'+cred+'@localhost/final_project')"
   ]
  },
  {
   "cell_type": "code",
   "execution_count": 30,
   "metadata": {},
   "outputs": [],
   "source": [
    "ug = pd.read_sql(\"SELECT steamid, appid FROM final_project.games_2 LIMIT 150000000;\", con=engine)"
   ]
  },
  {
   "cell_type": "code",
   "execution_count": 38,
   "metadata": {},
   "outputs": [
    {
     "name": "stdout",
     "output_type": "stream",
     "text": [
      "Getting Apps:\n",
      "Getting Unique Users:\n",
      "Changing IDs:\n",
      "Sampling:\n",
      "Creating Arrays:\n",
      "Test/Train:\n",
      "Saving Outputs:\n"
     ]
    }
   ],
   "source": [
    "sg = pd.read_csv(\"../02_Data Cleaning/Cleaned Data/clean_sg.csv\")\n",
    "# Create column of 1s\n",
    "ug[\"ones\"] = 1\n",
    "# Get list of unique apps that are in both sg list and ug and list of unique users\n",
    "print(\"Getting Apps:\")\n",
    "sgap = [i for i in sg.appid]\n",
    "ugap = list(ug[\"appid\"].unique())\n",
    "apps = [i for i in ugap if i in sgap]\n",
    "print(\"Getting Unique Users:\")\n",
    "users = pd.DataFrame(ug[\"steamid\"].unique()).reset_index().set_index(0).to_dict()[\"index\"]\n",
    "# Change steam IDs to an index number (makes the sparse array easier to deal with) and create random sample of rows for testing and training\n",
    "print(\"Changing IDs:\")\n",
    "ug[\"steamid\"] = ug[\"steamid\"].map(users)\n",
    "print(\"Sampling:\")\n",
    "rows = random.sample(range(len(users)),310000)\n",
    "# Create sparse array of data and split into test and train\n",
    "print(\"Creating Arrays:\")\n",
    "ud = sparse.csr_matrix((ug[\"ones\"], (ug[\"steamid\"], ug[\"appid\"])))[:,apps]\n",
    "print(\"Test/Train:\")\n",
    "udtr = ud[rows[:300000]]\n",
    "udte = ud[rows[300000:]]\n",
    "# Save Outputs to File\n",
    "print(\"Saving Outputs:\")\n",
    "with open(\"../03_Model Creation/Data/g_list.txt\", 'wb') as fp:\n",
    "    pickle.dump(apps, fp)\n",
    "sparse.save_npz(\"../03_Model Creation/Data/User_Data_tr.npz\", udtr)\n",
    "sparse.save_npz(\"../03_Model Creation/Data/User_Data_te.npz\", udtr)"
   ]
  }
 ],
 "metadata": {
  "kernelspec": {
   "display_name": "Python 3",
   "language": "python",
   "name": "python3"
  },
  "language_info": {
   "codemirror_mode": {
    "name": "ipython",
    "version": 3
   },
   "file_extension": ".py",
   "mimetype": "text/x-python",
   "name": "python",
   "nbconvert_exporter": "python",
   "pygments_lexer": "ipython3",
   "version": "3.7.6"
  }
 },
 "nbformat": 4,
 "nbformat_minor": 4
}
